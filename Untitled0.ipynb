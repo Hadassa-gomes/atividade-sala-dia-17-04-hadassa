{
  "nbformat": 4,
  "nbformat_minor": 0,
  "metadata": {
    "colab": {
      "provenance": []
    },
    "kernelspec": {
      "name": "python3",
      "display_name": "Python 3"
    },
    "language_info": {
      "name": "python"
    }
  },
  "cells": [
    {
      "cell_type": "code",
      "execution_count": 20,
      "metadata": {
        "colab": {
          "base_uri": "https://localhost:8080/"
        },
        "id": "rfYfQ0-xyte7",
        "outputId": "3a247295-a4af-42f3-9064-1138ea43a495"
      },
      "outputs": [
        {
          "output_type": "stream",
          "name": "stdout",
          "text": [
            "Insira o seu cargo:engenheira\n",
            "Insira o valor do seu salário:100\n",
            "o seu salário antigo era de: 100.0 o seu novo salário é de: 120.0 a diferença é de: 20.0\n"
          ]
        }
      ],
      "source": [
        "cargo = input('Insira o seu cargo:')\n",
        "salario = float(input('Insira o valor do seu salário:'))\n",
        "if(cargo == 'Gerente'):\n",
        "  print('o seu salário antigo era de:', salario, 'o seu novo salário é de:', (salario*10/100) + salario, 'a diferença é de:', (salario*10/100))\n",
        "elif(cargo == 'Engenheiro' or 'engenheiro' or 'Engenheira' or 'engenheira'):\n",
        "  print('o seu salário antigo era de:', salario, 'o seu novo salário é de:', (salario*20/100) + salario, 'a diferença é de:', (salario*20/100))\n",
        "elif(cargo == 'Técnico' or 'Tecnico' or 'técnico' or 'tecnico' or 'Técnica' or 'Tecnica' or 'técnica' or 'tecnica'):\n",
        "  print('o seu salário antido era de:', salario, 'o seu novo salário é de:', (salario*30/100) + salario, 'a diferença é de:', (salario*30/100))\n",
        "else:\n",
        "  print('o seu salário antigo era de:', salario, 'o seu novo salário é de:', (salario*40/100) + salario, 'a diferença é de:', (salario*40/100))\n",
        "\n"
      ]
    }
  ]
}